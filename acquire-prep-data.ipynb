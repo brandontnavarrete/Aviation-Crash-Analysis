{
 "cells": [
  {
   "cell_type": "code",
   "execution_count": 1,
   "id": "365e92a4",
   "metadata": {},
   "outputs": [],
   "source": [
    "import pandas as pd \n",
    "import numpy as np \n"
   ]
  },
  {
   "cell_type": "code",
   "execution_count": 2,
   "id": "a3305c1f",
   "metadata": {},
   "outputs": [],
   "source": [
    "df = pd.read_csv('Airplane_Crashes_and_Fatalities_Since_1908.csv',index_col= 0)"
   ]
  },
  {
   "cell_type": "code",
   "execution_count": 3,
   "id": "508e76f6",
   "metadata": {},
   "outputs": [
    {
     "data": {
      "text/plain": [
       "5268"
      ]
     },
     "execution_count": 3,
     "metadata": {},
     "output_type": "execute_result"
    }
   ],
   "source": [
    "len(df)"
   ]
  },
  {
   "cell_type": "code",
   "execution_count": 4,
   "id": "d9c9d3fb",
   "metadata": {},
   "outputs": [
    {
     "data": {
      "text/plain": [
       "Date               0\n",
       "Time            2219\n",
       "Location          20\n",
       "Operator          18\n",
       "Flight #        4199\n",
       "Route           1706\n",
       "Type              27\n",
       "Registration     335\n",
       "cn/In           1228\n",
       "Aboard            22\n",
       "Fatalities        12\n",
       "Ground            22\n",
       "Summary          390\n",
       "dtype: int64"
      ]
     },
     "execution_count": 4,
     "metadata": {},
     "output_type": "execute_result"
    }
   ],
   "source": [
    "df.isnull().sum()"
   ]
  },
  {
   "cell_type": "markdown",
   "id": "1c4bc855",
   "metadata": {},
   "source": [
    "# Let's Deal With These Nulls"
   ]
  },
  {
   "cell_type": "code",
   "execution_count": 5,
   "id": "931c058d",
   "metadata": {},
   "outputs": [],
   "source": [
    "# for me own self research I will quickly drop some of the smaller null values so that I may focus on bigger issues"
   ]
  },
  {
   "cell_type": "code",
   "execution_count": 6,
   "id": "aaff55ff",
   "metadata": {},
   "outputs": [],
   "source": [
    "droppers = ['Location','Operator','Type','Registration','Aboard','Fatalities','Ground','Summary','cn/In','Route']"
   ]
  },
  {
   "cell_type": "markdown",
   "id": "feca25ee",
   "metadata": {},
   "source": [
    "## Drop"
   ]
  },
  {
   "cell_type": "code",
   "execution_count": 7,
   "id": "6c146630",
   "metadata": {},
   "outputs": [],
   "source": [
    "df = df.drop(columns= 'Flight #')"
   ]
  },
  {
   "cell_type": "code",
   "execution_count": 8,
   "id": "041cf44b",
   "metadata": {},
   "outputs": [],
   "source": [
    "# Drop rows where any of the specified columns have null values\n",
    "df = df.dropna(subset=droppers)"
   ]
  },
  {
   "cell_type": "markdown",
   "id": "bf20e97b",
   "metadata": {},
   "source": [
    "## Time fix"
   ]
  },
  {
   "cell_type": "code",
   "execution_count": 14,
   "id": "8ba19f63",
   "metadata": {},
   "outputs": [],
   "source": [
    "#df['Time'].mode()[0]\n",
    "# Calculate the mode of the 'Time' column\n",
    "time_mode = df['Time'].mode()[0]\n",
    "\n",
    "df['Time'] = df['Time'].fillna(time_mode)"
   ]
  },
  {
   "cell_type": "markdown",
   "id": "c92fa624",
   "metadata": {},
   "source": [
    "# Clean Data"
   ]
  },
  {
   "cell_type": "code",
   "execution_count": 19,
   "id": "afd03027",
   "metadata": {},
   "outputs": [
    {
     "data": {
      "text/plain": [
       "(2969, 12)"
      ]
     },
     "execution_count": 19,
     "metadata": {},
     "output_type": "execute_result"
    }
   ],
   "source": [
    "df.shape"
   ]
  },
  {
   "cell_type": "code",
   "execution_count": 20,
   "id": "57c7ca42",
   "metadata": {},
   "outputs": [],
   "source": [
    "df.to_csv('fatal_avi')"
   ]
  },
  {
   "cell_type": "code",
   "execution_count": 21,
   "id": "c0ed4309",
   "metadata": {},
   "outputs": [
    {
     "data": {
      "text/html": [
       "<div>\n",
       "<style scoped>\n",
       "    .dataframe tbody tr th:only-of-type {\n",
       "        vertical-align: middle;\n",
       "    }\n",
       "\n",
       "    .dataframe tbody tr th {\n",
       "        vertical-align: top;\n",
       "    }\n",
       "\n",
       "    .dataframe thead th {\n",
       "        text-align: right;\n",
       "    }\n",
       "</style>\n",
       "<table border=\"1\" class=\"dataframe\">\n",
       "  <thead>\n",
       "    <tr style=\"text-align: right;\">\n",
       "      <th></th>\n",
       "      <th>Date</th>\n",
       "      <th>Time</th>\n",
       "      <th>Location</th>\n",
       "      <th>Operator</th>\n",
       "      <th>Route</th>\n",
       "      <th>Type</th>\n",
       "      <th>Registration</th>\n",
       "      <th>cn/In</th>\n",
       "      <th>Aboard</th>\n",
       "      <th>Fatalities</th>\n",
       "      <th>Ground</th>\n",
       "      <th>Summary</th>\n",
       "    </tr>\n",
       "    <tr>\n",
       "      <th>index</th>\n",
       "      <th></th>\n",
       "      <th></th>\n",
       "      <th></th>\n",
       "      <th></th>\n",
       "      <th></th>\n",
       "      <th></th>\n",
       "      <th></th>\n",
       "      <th></th>\n",
       "      <th></th>\n",
       "      <th></th>\n",
       "      <th></th>\n",
       "      <th></th>\n",
       "    </tr>\n",
       "  </thead>\n",
       "  <tbody>\n",
       "  </tbody>\n",
       "</table>\n",
       "</div>"
      ],
      "text/plain": [
       "Empty DataFrame\n",
       "Columns: [Date, Time, Location, Operator, Route, Type, Registration, cn/In, Aboard, Fatalities, Ground, Summary]\n",
       "Index: []"
      ]
     },
     "execution_count": 21,
     "metadata": {},
     "output_type": "execute_result"
    }
   ],
   "source": [
    "# filter rows where at least one column is null\n",
    "#df.isnull().any(axis=1)\n",
    "\n",
    "df[df.isnull().any(axis=1)]"
   ]
  }
 ],
 "metadata": {
  "kernelspec": {
   "display_name": "Python 3 (ipykernel)",
   "language": "python",
   "name": "python3"
  },
  "language_info": {
   "codemirror_mode": {
    "name": "ipython",
    "version": 3
   },
   "file_extension": ".py",
   "mimetype": "text/x-python",
   "name": "python",
   "nbconvert_exporter": "python",
   "pygments_lexer": "ipython3",
   "version": "3.9.13"
  }
 },
 "nbformat": 4,
 "nbformat_minor": 5
}
